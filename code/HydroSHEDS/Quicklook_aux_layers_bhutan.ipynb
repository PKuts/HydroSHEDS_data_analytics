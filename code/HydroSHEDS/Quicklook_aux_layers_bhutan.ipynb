{
 "cells": [
  {
   "cell_type": "markdown",
   "id": "6693f048",
   "metadata": {},
   "source": [
    "Quick Analyse of \n",
    "\n",
    "as_con_3s.tif\n",
    "as_msk_3s.tif\n",
    "hyd_as_lup_15s.tif \n",
    "\n",
    "\n",
    "| File name              | Content / Purpose                                                             | Quick analysis idea                                      |\n",
    "|------------------------|-------------------------------------------------------------------------------|---------------------------------------------------------|\n",
    "| **as_con_3s.tif**      | Conditioned DEM — elevation model hydrologically corrected (stream burning, sinks filled) | Clip to Bhutan + buffer, plot hillshade, compare vs. raw DEM |\n",
    "| **as_msk_3s.tif**      | Land mask — binary mask of land vs. ocean                                     | Clip to Bhutan + buffer, check unique values (0 = water, 1 = land) |\n",
    "| **hyd_as_lup_15s.tif** | Lookup table at 15″ resolution (land/sea mask, auxiliary layer for hydrological atlas) | Clip to Bhutan extent, print unique values, verify categories |"
   ]
  },
  {
   "cell_type": "code",
   "execution_count": null,
   "id": "0edb13bc",
   "metadata": {},
   "outputs": [
    {
     "ename": "FileNotFoundError",
     "evalue": "One or more input files are missing. Please ensure all required files are present.",
     "output_type": "error",
     "traceback": [
      "\u001b[0;31m---------------------------------------------------------------------------\u001b[0m",
      "\u001b[0;31mFileNotFoundError\u001b[0m                         Traceback (most recent call last)",
      "Cell \u001b[0;32mIn[1], line 14\u001b[0m\n\u001b[1;32m     11\u001b[0m hyd_as_lup \u001b[38;5;241m=\u001b[39m Path(\u001b[38;5;124m\"\u001b[39m\u001b[38;5;124m../../data/HydroSHEDS/hyd_as_lup_15s\u001b[39m\u001b[38;5;124m\"\u001b[39m)\n\u001b[1;32m     13\u001b[0m \u001b[38;5;28;01mif\u001b[39;00m \u001b[38;5;129;01mnot\u001b[39;00m (con_path\u001b[38;5;241m.\u001b[39mexists() \u001b[38;5;241m==\u001b[39m con_msk\u001b[38;5;241m.\u001b[39mexists ()\u001b[38;5;241m==\u001b[39m hyd_as_lup\u001b[38;5;241m.\u001b[39mexists ()  \u001b[38;5;241m==\u001b[39m \u001b[38;5;28;01mTrue\u001b[39;00m):\n\u001b[0;32m---> 14\u001b[0m     \u001b[38;5;28;01mraise\u001b[39;00m \u001b[38;5;167;01mFileNotFoundError\u001b[39;00m(\u001b[38;5;124m\"\u001b[39m\u001b[38;5;124mOne or more input files are missing. Please ensure all required files are present.\u001b[39m\u001b[38;5;124m\"\u001b[39m)\n\u001b[1;32m     15\u001b[0m \u001b[38;5;28;01melse\u001b[39;00m:\n\u001b[1;32m     16\u001b[0m     \u001b[38;5;28mprint\u001b[39m (\u001b[38;5;124m\"\u001b[39m\u001b[38;5;124mTODO\u001b[39m\u001b[38;5;124m\"\u001b[39m)\n",
      "\u001b[0;31mFileNotFoundError\u001b[0m: One or more input files are missing. Please ensure all required files are present."
     ]
    }
   ],
   "source": [
    "from pathlib import Path\n",
    "import os\n",
    "os.environ[\"GEOPANDAS_IO_ENGINE\"] = \"pyogrio\"   \n",
    "import geopandas as gpd\n",
    "import rasterio   #This is a library for working with raster geospatial data (GeoTIFF)\n",
    "import rioxarray as rxr # extension of xarray + rasterio, simplifies reading/writing GeoTIFF and reprojection to different CRS\n",
    "\n",
    "\n",
    "con_path = Path(\"../../data/HydroSHEDS/as_con_3s.tif\")\n",
    "con_msk = Path(\"../../data/HydroSHEDS/as_msk_3s.tif\")\n",
    "hyd_as_lup = Path(\"../../data/HydroSHEDS/hyd_as_lup_15s.tif\")\n",
    "\n",
    "if not (con_path.exists() == con_msk.exists ()== hyd_as_lup.exists ()  == True):\n",
    "    raise FileNotFoundError(\"One or more input files are missing. Please ensure all required files are present.\")\n",
    "else:\n",
    "    print (\"TODO\")"
   ]
  }
 ],
 "metadata": {
  "kernelspec": {
   "display_name": ".venv",
   "language": "python",
   "name": "python3"
  },
  "language_info": {
   "codemirror_mode": {
    "name": "ipython",
    "version": 3
   },
   "file_extension": ".py",
   "mimetype": "text/x-python",
   "name": "python",
   "nbconvert_exporter": "python",
   "pygments_lexer": "ipython3",
   "version": "3.8.10"
  }
 },
 "nbformat": 4,
 "nbformat_minor": 5
}
