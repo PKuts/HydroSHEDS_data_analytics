{
 "cells": [
  {
   "cell_type": "code",
   "execution_count": null,
   "id": "eab5ce23",
   "metadata": {},
   "outputs": [],
   "source": [
    "import rasterio\n",
    "import numpy as np\n",
    "import pandas as pd\n",
    "import matplotlib.pyplot as plt\n"
   ]
  },
  {
   "cell_type": "code",
   "execution_count": 8,
   "id": "5936e259",
   "metadata": {},
   "outputs": [],
   "source": [
    "tif_path = \"../../data/HydroSHEDS/as_acc_3s.tif\""
   ]
  },
  {
   "cell_type": "code",
   "execution_count": 9,
   "id": "62980ab9",
   "metadata": {},
   "outputs": [
    {
     "name": "stdout",
     "output_type": "stream",
     "text": [
      "📌 CRS (Coordinate Reference System): EPSG:4326\n",
      "📐 Size (width x height): 156000 x 72000\n",
      "📦 Number of bands: 1\n",
      "🧭 Affine transformation (pixel → geographic coordinates):\n",
      " | 0.00, 0.00, 50.00|\n",
      "| 0.00,-0.00, 60.00|\n",
      "| 0.00, 0.00, 1.00|\n"
     ]
    }
   ],
   "source": [
    "with rasterio.open(tif_path) as src:\n",
    "    print(\"📌 CRS (Coordinate Reference System):\", src.crs)\n",
    "    print(\"📐 Size (width x height):\", src.width, \"x\", src.height)\n",
    "    print(\"📦 Number of bands:\", src.count)\n",
    "    print(\"🧭 Affine transformation (pixel → geographic coordinates):\\n\", src.transform)"
   ]
  },
  {
   "cell_type": "code",
   "execution_count": null,
   "id": "6167e25f",
   "metadata": {},
   "outputs": [
    {
     "ename": "NameError",
     "evalue": "name 'window' is not defined",
     "output_type": "error",
     "traceback": [
      "\u001b[0;31m---------------------------------------------------------------------------\u001b[0m",
      "\u001b[0;31mNameError\u001b[0m                                 Traceback (most recent call last)",
      "Cell \u001b[0;32mIn[12], line 2\u001b[0m\n\u001b[1;32m      1\u001b[0m \u001b[38;5;28;01mwith\u001b[39;00m rasterio\u001b[38;5;241m.\u001b[39mopen(tif_path) \u001b[38;5;28;01mas\u001b[39;00m src:\n\u001b[0;32m----> 2\u001b[0m     band1 \u001b[38;5;241m=\u001b[39m src\u001b[38;5;241m.\u001b[39mread(\u001b[38;5;241m1\u001b[39m, window\u001b[38;5;241m=\u001b[39m\u001b[43mwindow\u001b[49m)\n\u001b[1;32m      3\u001b[0m     band1 \u001b[38;5;241m=\u001b[39m np\u001b[38;5;241m.\u001b[39mwhere(band1 \u001b[38;5;241m<\u001b[39m\u001b[38;5;241m=\u001b[39m \u001b[38;5;241m0\u001b[39m, np\u001b[38;5;241m.\u001b[39mnan, band1)\n\u001b[1;32m      5\u001b[0m plt\u001b[38;5;241m.\u001b[39mfigure(figsize\u001b[38;5;241m=\u001b[39m(\u001b[38;5;241m8\u001b[39m, \u001b[38;5;241m6\u001b[39m))\n",
      "\u001b[0;31mNameError\u001b[0m: name 'window' is not defined"
     ]
    }
   ],
   "source": [
    "with rasterio.open(tif_path) as src:\n",
    "    scale = 20\n",
    "    new_height = src.height // scale\n",
    "    new_width = src.width // scale\n",
    "    data = src.read(\n",
    "        1,\n",
    "        out_shape=(1, new_height, new_width),\n",
    "        resampling=rasterio.enums.Resampling.average\n",
    "    )\n",
    "    data = np.where(data <= 0, np.nan, data)\n",
    "\n",
    "plt.figure(figsize=(10, 6))\n",
    "plt.imshow(data, cmap='viridis')\n",
    "plt.title(\"Downsampled Flow Accumulation\")\n",
    "plt.colorbar(label=\"Flow Accumulation\")\n",
    "plt.show()\n"
   ]
  },
  {
   "cell_type": "code",
   "execution_count": null,
   "id": "922ccf1d",
   "metadata": {},
   "outputs": [],
   "source": [
    "with rasterio.open(tif_path) as src:\n",
    "    band = src.read(1)\n",
    "    transform = src.transform\n",
    "\n",
    "# select only valid (non-zero) values\n",
    "rows, cols = np.where(band > 0)\n",
    "values = band[rows, cols]\n",
    "\n",
    "# convert pixel coordinates to geographic coordinates\n",
    "xs, ys = rasterio.transform.xy(transform, rows, cols)\n",
    "\n",
    "# create a DataFrame\n",
    "df = pd.DataFrame({\n",
    "    \"longitude\": xs,\n",
    "    \"latitude\": ys,\n",
    "    \"flow_accumulation\": values\n",
    "})\n",
    "\n",
    "df.head()\n"
   ]
  },
  {
   "cell_type": "code",
   "execution_count": null,
   "id": "604ba6e2",
   "metadata": {},
   "outputs": [],
   "source": [
    "csv_path = \"../../data/HydroSHEDS/as_acc_3s.csv\"\n",
    "df.to_csv(csv_path, index=False)\n",
    "print(f\"✅ CSV saved to {csv_path}\")"
   ]
  }
 ],
 "metadata": {
  "kernelspec": {
   "display_name": "Python 3",
   "language": "python",
   "name": "python3"
  },
  "language_info": {
   "codemirror_mode": {
    "name": "ipython",
    "version": 3
   },
   "file_extension": ".py",
   "mimetype": "text/x-python",
   "name": "python",
   "nbconvert_exporter": "python",
   "pygments_lexer": "ipython3",
   "version": "3.8.10"
  }
 },
 "nbformat": 4,
 "nbformat_minor": 5
}
