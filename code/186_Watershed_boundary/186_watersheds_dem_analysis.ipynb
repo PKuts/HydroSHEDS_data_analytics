{
 "cells": [
  {
   "cell_type": "markdown",
   "id": "7be4e914",
   "metadata": {},
   "source": [
    "**Precondition:** Download the *\"186 Watershed boundary\"* files from [NSDI Bhutan](https://nsdi.systems.gov.bt/data/Boundaries) and save them in `../../data/186_Watershed_boundary/`."
   ]
  },
  {
   "cell_type": "markdown",
   "id": "51d3bbd6",
   "metadata": {},
   "source": [
    "**Step 0: Check if DEM & ACC have the same CRS with 186 Watershed boundaries and convert if needed**"
   ]
  },
  {
   "cell_type": "code",
   "execution_count": 2,
   "id": "32490093",
   "metadata": {},
   "outputs": [
    {
     "name": "stdout",
     "output_type": "stream",
     "text": [
      "CRS NOT match!\n",
      "WS CRS: EPSG:3857\n",
      "DEM CRS: EPSG:4326\n",
      "ACC CRS: EPSG:4326\n",
      "Let's bring all datasets to the same CRS:\n",
      "DEM saved to ../../data/HydroSHEDS/dem_Bhutan_and_buffer_EPSG3857.tif\n",
      "ACC saved to ../../data/HydroSHEDS/acc_Bhutan_and_buffer_EPSG3857.tif\n"
     ]
    }
   ],
   "source": [
    "from pathlib import Path\n",
    "import os\n",
    "os.environ[\"GEOPANDAS_IO_ENGINE\"] = \"pyogrio\"   \n",
    "import geopandas as gpd\n",
    "import rasterio   #This is a library for working with raster geospatial data (GeoTIFF)\n",
    "import rioxarray as rxr # extension of xarray + rasterio, simplifies reading/writing GeoTIFF and reprojection to different CRS\n",
    "\n",
    "\n",
    "acc_path = Path(\"../../data/HydroSHEDS/as_acc_Bhutan_and_buffer.tif\") #ACC data from HydroSHEDS\n",
    "dem_path = Path(\"../../data/HydroSHEDS/as_dem_Bhutan_and_buffer.tif\") #DEM data from HydroSHEDS\n",
    "\n",
    "polygon_coordinates_path = Path(\"../../data/186_Watershed_boundary/186 Watershed boundary.shp\") #186 Watershed boundary.shp → geometry (polygon coordinates)\n",
    "indexes_path = Path(\"../../data/186_Watershed_boundary/186 Watershed boundary.shx\") #indexes for quick access\n",
    "attribute_path = Path(\"../../data/186_Watershed_boundary/186 Watershed boundary.dbf\") #attribute table (ID, other fields)\n",
    "coordinate_system_path = Path(\"../../data/186_Watershed_boundary/186 Watershed boundary.prj\") #To align Coordinate Reference System with DEM\n",
    "\n",
    "if not (acc_path.exists() == dem_path.exists() == polygon_coordinates_path.exists() == indexes_path.exists() == attribute_path.exists() == coordinate_system_path.exists() ==True):\n",
    "    print (\"sushi\")\n",
    "    raise FileNotFoundError(\"One or more required files are missing. Please check the paths.\")\n",
    "\n",
    "# -----Check if DEM, ACC and 186_Watershed have the same CRS -----\n",
    "ws = gpd.read_file(polygon_coordinates_path, engine=\"pyogrio\")\n",
    "             \n",
    "with rasterio.open(dem_path) as r:\n",
    "    dem_crs = r.crs\n",
    "    dem_nodata = r.nodata\n",
    "\n",
    "with rasterio.open(acc_path) as ra:\n",
    "    acc_crs = ra.crs\n",
    "    acc_nodata = ra.nodata\n",
    "\n",
    "if not ws.crs == dem_crs==acc_crs:\n",
    "    print(\"CRS NOT match!\")\n",
    "    print(\"WS CRS:\", ws.crs)\n",
    "    print(\"DEM CRS:\", dem_crs)\n",
    "    print(\"ACC CRS:\", acc_crs)\n",
    "    print(\"Let's bring all datasets to the same CRS:\")\n",
    "\n",
    "    # Covert DEM to the same CRS as the watershed shapefile (EPSG:3857)\n",
    "    dem = rxr.open_rasterio(dem_path)\n",
    "    dem_reproj = dem.rio.reproject(ws.crs)  # Reproject DEM to match watershed CRS\n",
    "    dem_out = dem_path.parent /\"dem_Bhutan_and_buffer_EPSG3857.tif\"\n",
    "    dem_reproj.rio.to_raster(dem_out)\n",
    "\n",
    "    # Covert ACC to the same CRS as the watershed shapefile (EPSG:3857)\n",
    "    acc = rxr.open_rasterio(acc_path)\n",
    "    acc_reproj = acc.rio.reproject(ws.crs)\n",
    "    acc_out = acc_path.parent /\"acc_Bhutan_and_buffer_EPSG3857.tif\"\n",
    "    acc_reproj.rio.to_raster(acc_out)\n",
    "\n",
    "    print(f\"DEM saved to {dem_out}\")\n",
    "    print(f\"ACC saved to {acc_out}\")   \n",
    "else:\n",
    "    print(\"All datasets already share the same CRS.\")"
   ]
  },
  {
   "cell_type": "markdown",
   "id": "59f780f9",
   "metadata": {},
   "source": [
    "**Select unique watershed identifier**"
   ]
  },
  {
   "cell_type": "code",
   "execution_count": null,
   "id": "2bac3427",
   "metadata": {},
   "outputs": [],
   "source": [
    "import geopandas as gpd\n",
    "from pathlib import Path\n",
    "\n",
    "ws_path = Path(\"../../data/186_Watershed_boundary/186 Watershed boundary.shp\")\n",
    "\n",
    "# load shapefile\n",
    "ws = gpd.read_file(ws_path, engine=\"pyogrio\")\n",
    "print(ws.head())\n",
    "\n",
    "# list all available columns\n",
    "print(\"\\nColumns in shapefile:\", ws.columns.tolist())"
   ]
  },
  {
   "cell_type": "markdown",
   "id": "9dd8b7d8",
   "metadata": {},
   "source": [
    "**Compute zonal statistics for each watershed (ws_id)** "
   ]
  },
  {
   "cell_type": "code",
   "execution_count": null,
   "id": "8145cfa7",
   "metadata": {},
   "outputs": [],
   "source": [
    "from pathlib import Path\n",
    "import pandas as pd\n",
    "import os\n",
    "os.environ[\"GEOPANDAS_IO_ENGINE\"] = \"pyogrio\"   \n",
    "import geopandas as gpd\n",
    "from rasterstats import zonal_stats #It allows to calculate statistics on raster values (for example, a DEM) within vector polygons\n",
    "\n",
    "\n",
    "dem_reproj = Path(\"../../data/HydroSHEDS/dem_Bhutan_and_buffer_EPSG3857.tif\")\n",
    "acc_reproj = Path(\"../../data/HydroSHEDS/acc_Bhutan_and_buffer_EPSG3857.tif\")\n",
    "ws_path = Path(\"../../data/boundaries/186_watershed/186 Watershed boundary.shp\")\n",
    "# When reading a shapefile we specify only the .shp file, \n",
    "# but geopandas automatically also loads the companion files:\n",
    "# - .shp → geometry\n",
    "# - .dbf → attributes\n",
    "# - .shx → index\n",
    "# - .prj → CRS\n",
    "\n",
    "ws = gpd.read_file(ws_path, engine=\"pyogrio\")\n",
    "\n",
    "# zonal_stats computes statistics for raster values within each vector polygon\n",
    "#\n",
    "# Commonly used stats keywords:\n",
    "#   - \"min\"        → minimum value\n",
    "#   - \"max\"        → maximum value\n",
    "#   - \"mean\"       → arithmetic mean\n",
    "#   - \"median\"     → median value\n",
    "#   - \"std\"        → standard deviation\n",
    "#   - \"sum\"        → sum of all valid cell values\n",
    "#   - \"count\"      → number of valid cells\n",
    "#   - \"range\"      → difference between max and min\n",
    "#   - \"majority\"   → most frequent value\n",
    "#   - \"minority\"   → least frequent value\n",
    "#   - \"unique\"     → list of unique values\n",
    "#   - \"all\"        → compute all available statistics\n",
    "#   - \"percentile_X\" → e.g. \"percentile_90\" = 90th percentile\n",
    "#\n",
    "# nodata=-9999 tells the function to ignore raster cells with value -9999\n",
    "# (these represent missing data / outside valid area in many DEM/ACC files)\n",
    "\n",
    "# DEM zonal statistics\n",
    "dem_stats = zonal_stats(ws, dem_reproj, stats=[\"min\", \"max\", \"mean\", \"median\", \"std\"], nodata=-9999)\n",
    "# ACC zonal statistics\n",
    "acc_stats = zonal_stats(ws, acc_reproj, stats=[\"min\", \"max\", \"mean\", \"median\", \"std\"], nodata=-9999)\n",
    "\n",
    "# Convert lists of dicts to DataFrames and prefix columns\n",
    "df_dem = pd.DataFrame(dem_stats).add_prefix(\"dem_\")\n",
    "df_acc = pd.DataFrame(acc_stats).add_prefix(\"acc_\")\n",
    "\n",
    "# Combine with ws_id\n",
    "result = ws[[\"ws_id\"]].copy()\n",
    "result = pd.concat([ws[\"ws_id\"].reset_index(drop=True), df_dem, df_acc], axis=1)\n",
    "\n",
    "# Save to CSV\n",
    "out_csv = ws_path.parent / \"watershed_dem_acc_stats.csv\"\n",
    "num_records = len(result)\n",
    "print(f\"Number of records in result: {num_records}\")\n",
    "print (result.head())\n",
    "result.to_csv(out_csv, index=False)\n",
    "print(f\"Statistics saved to {out_csv.resolve()}\")"
   ]
  }
 ],
 "metadata": {
  "kernelspec": {
   "display_name": ".venv",
   "language": "python",
   "name": "python3"
  },
  "language_info": {
   "codemirror_mode": {
    "name": "ipython",
    "version": 3
   },
   "file_extension": ".py",
   "mimetype": "text/x-python",
   "name": "python",
   "nbconvert_exporter": "python",
   "pygments_lexer": "ipython3",
   "version": "3.8.10"
  }
 },
 "nbformat": 4,
 "nbformat_minor": 5
}
