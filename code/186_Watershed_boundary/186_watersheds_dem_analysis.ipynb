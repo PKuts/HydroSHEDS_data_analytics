{
 "cells": [
  {
   "cell_type": "markdown",
   "id": "7be4e914",
   "metadata": {},
   "source": [
    "**Precondition:** Download the *\"186 Watershed boundary\"* files from [NSDI Bhutan](https://nsdi.systems.gov.bt/data/Boundaries) and save them in `../../data/186_Watershed_boundary/`."
   ]
  },
  {
   "cell_type": "code",
   "execution_count": null,
   "id": "32490093",
   "metadata": {},
   "outputs": [
    {
     "name": "stdout",
     "output_type": "stream",
     "text": [
      "CRS NOT match!\n",
      "WS CRS: EPSG:3857\n",
      "DEM CRS: EPSG:4326\n"
     ]
    }
   ],
   "source": [
    "from pathlib import Path\n",
    "import pandas as pd\n",
    "import os\n",
    "os.environ[\"GEOPANDAS_IO_ENGINE\"] = \"pyogrio\"   # або просто передати engine=\n",
    "import geopandas as gpd\n",
    "import rasterio   #This is a library for working with raster geospatial data (GeoTIFF)\n",
    "from rasterstats import zonal_stats #It allows to calculate statistics on raster values (for example, a DEM) within vector polygons\n",
    "\n",
    "\n",
    "dem_path = Path(\"../../data/HydroSHEDS/as_dem_Bhutan_and_buffer.tif\") #DEM data from HydroSHEDS\n",
    "polygon_coordinates_path = Path(\"../../data/186_Watershed_boundary/186 Watershed boundary.shp\") #186 Watershed boundary.shp → geometry (polygon coordinates)\n",
    "indexes_path = Path(\"../../data/186_Watershed_boundary/186 Watershed boundary.shx\") #indexes for quick access\n",
    "attribute_path = Path(\"../../data/186_Watershed_boundary/186 Watershed boundary.dbf\") #attribute table (ID, other fields)\n",
    "coordinate_system_path = Path(\"../../data/186_Watershed_boundary/186 Watershed boundary.prj\") #To align Coordinate Reference System with DEM\n",
    "\n",
    "if not (dem_path.exists() == polygon_coordinates_path.exists() == indexes_path.exists() == attribute_path.exists() == coordinate_system_path.exists() ==True):\n",
    "    raise FileNotFoundError(\"One or more required files are missing. Please check the paths.\")\n",
    "\n",
    "# -----Check if DEM and 186_Watershed have the same CRM -----\n",
    "ws = gpd.read_file(polygon_coordinates_path, engine=\"pyogrio\")\n",
    "             \n",
    "with rasterio.open(dem_path) as r:\n",
    "    dem_crs = r.crs\n",
    "    dem_nodata = r.nodata\n",
    "\n",
    "if not ws.crs == dem_crs:\n",
    "    print (\"CRS NOT match!\")\n",
    "    print(\"WS CRS:\", ws.crs)\n",
    "    print(\"DEM CRS:\", dem_crs)"
   ]
  }
 ],
 "metadata": {
  "kernelspec": {
   "display_name": ".venv",
   "language": "python",
   "name": "python3"
  },
  "language_info": {
   "codemirror_mode": {
    "name": "ipython",
    "version": 3
   },
   "file_extension": ".py",
   "mimetype": "text/x-python",
   "name": "python",
   "nbconvert_exporter": "python",
   "pygments_lexer": "ipython3",
   "version": "3.8.10"
  }
 },
 "nbformat": 4,
 "nbformat_minor": 5
}
